{
  "nbformat": 4,
  "nbformat_minor": 0,
  "metadata": {
    "colab": {
      "name": "speer-2017-replication.ipynb",
      "provenance": [],
      "collapsed_sections": []
    },
    "kernelspec": {
      "name": "python3",
      "display_name": "Python 3"
    },
    "language_info": {
      "name": "python"
    },
    "accelerator": "GPU"
  },
  "cells": [
    {
      "cell_type": "markdown",
      "source": [
        "# How to Make a Racist AI Without Really Trying\n",
        "### A cautionary tutorial\n",
        "\n",
        "Implementing the code for creating a simple sentiment classifier using NLP tools, found on Speer (2017)'s blog post [here](http://blog.conceptnet.io/posts/2017/how-to-make-a-racist-ai-without-really-trying/). We do this as a way to both see some NLP tools in action, as well as to examine what happens when we use these tools without really taking into account where the data we use comes from, or who it could affect in the long run."
      ],
      "metadata": {
        "id": "ipNT5_tNx8x2"
      }
    },
    {
      "cell_type": "markdown",
      "source": [
        "Here’s the outline, taken from the blog post:\n",
        "\n",
        "- Get word embeddings to represent the meanings of words\n",
        "- Pull training and test data, with gold-standard annotated examples of positive and negative words\n",
        "- Train a classifier to recognize other positive and negative words based on their word embeddings\n",
        "- Compute sentiment scores for sentences of text using this classifier\n",
        "- Behold the monstrosity that we have created\n",
        "\n",
        "After we do that, we'll also:\n",
        "\n",
        "Look at the problem and measure it statistically\n",
        "Improve the data and retrain the model to hopefully get a more accurate and less racist result"
      ],
      "metadata": {
        "id": "qHvMpNiPyBk3"
      }
    },
    {
      "cell_type": "markdown",
      "source": [
        "## Installing the basics\n",
        "\n",
        "We'll need some python packages to do this, and the following cell is our setup & background for building this tutorial."
      ],
      "metadata": {
        "id": "r8VkDtGiyE-E"
      }
    },
    {
      "cell_type": "code",
      "source": [
        "!nvidia-smi\n",
        "from google.colab import drive\n",
        "drive.mount('/content/drive')"
      ],
      "metadata": {
        "colab": {
          "base_uri": "https://localhost:8080/"
        },
        "id": "P3O4flCCUr6e",
        "outputId": "cd991457-1ba0-43ee-f6de-11e3dcacf80a"
      },
      "execution_count": 2,
      "outputs": [
        {
          "output_type": "stream",
          "name": "stdout",
          "text": [
            "Mon Mar  7 17:00:49 2022       \n",
            "+-----------------------------------------------------------------------------+\n",
            "| NVIDIA-SMI 460.32.03    Driver Version: 460.32.03    CUDA Version: 11.2     |\n",
            "|-------------------------------+----------------------+----------------------+\n",
            "| GPU  Name        Persistence-M| Bus-Id        Disp.A | Volatile Uncorr. ECC |\n",
            "| Fan  Temp  Perf  Pwr:Usage/Cap|         Memory-Usage | GPU-Util  Compute M. |\n",
            "|                               |                      |               MIG M. |\n",
            "|===============================+======================+======================|\n",
            "|   0  Tesla K80           Off  | 00000000:00:04.0 Off |                    0 |\n",
            "| N/A   34C    P8    28W / 149W |      0MiB / 11441MiB |      0%      Default |\n",
            "|                               |                      |                  N/A |\n",
            "+-------------------------------+----------------------+----------------------+\n",
            "                                                                               \n",
            "+-----------------------------------------------------------------------------+\n",
            "| Processes:                                                                  |\n",
            "|  GPU   GI   CI        PID   Type   Process name                  GPU Memory |\n",
            "|        ID   ID                                                   Usage      |\n",
            "|=============================================================================|\n",
            "|  No running processes found                                                 |\n",
            "+-----------------------------------------------------------------------------+\n",
            "Drive already mounted at /content/drive; to attempt to forcibly remount, call drive.mount(\"/content/drive\", force_remount=True).\n"
          ]
        }
      ]
    },
    {
      "cell_type": "code",
      "execution_count": 3,
      "metadata": {
        "id": "HdP41H5Dx5O1",
        "colab": {
          "base_uri": "https://localhost:8080/"
        },
        "outputId": "21a43b3e-e667-43cb-8312-543a164e32eb"
      },
      "outputs": [
        {
          "output_type": "stream",
          "name": "stderr",
          "text": [
            "/usr/local/lib/python3.7/dist-packages/statsmodels/tools/_testing.py:19: FutureWarning: pandas.util.testing is deprecated. Use the functions in the public API at pandas.testing instead.\n",
            "  import pandas.util.testing as tm\n"
          ]
        }
      ],
      "source": [
        "import numpy as np\n",
        "import pandas as pd\n",
        "import matplotlib\n",
        "import seaborn\n",
        "import re\n",
        "import statsmodels.formula.api\n",
        "\n",
        "from sklearn.linear_model import SGDClassifier\n",
        "from sklearn.model_selection import train_test_split\n",
        "from sklearn.metrics import accuracy_score\n",
        "\n",
        "# Configure how graphs will show up in this notebook\n",
        "%matplotlib inline\n",
        "seaborn.set_context('notebook', rc={'figure.figsize': (10, 6)}, font_scale=1.5)"
      ]
    },
    {
      "cell_type": "markdown",
      "source": [
        "### Step 1: Word embeddings\n",
        "\n",
        "The first step in this process to this is to get word embeddings. \n",
        "\n",
        "**What are word embeddings?**\n",
        "\n",
        "- A measure of semantic similarity based on word distribution properties in a text\n",
        "- A way to represent a word in terms of a numerical value, encoded as a *vector* \n",
        "- What's a vector?\n",
        "  - Basically, objects that can be added or multiplied, and which has a length and a direction.\n",
        "\n",
        "**Why do we want to calculate them?**\n",
        "\n",
        "- Because you can then compare words by looking at their similarities, encoded as numerical values.\n",
        "\n",
        "*An aside: have you played [Semantle](https://semantle.novalis.org/) yet? This is a good representation of word embedding/similarities values of English words.This is based off of word2vec embeddings.*\n",
        "\n",
        "\n",
        "In the article, the author uses the GloVe pretrained word embedding model. They download it from [here](https://nlp.stanford.edu/projects/glove/) ([this](https://huggingface.co/stanfordnlp/glove/resolve/main/glove.42B.300d.zip) is the link to the actual zip). To keep following along, download that file, save it as `glove.42B.300d.txt` and place it in your accessible file directory.\n",
        "\n",
        "This is a big file! And this block of code takes about 5 minutes to run."
      ],
      "metadata": {
        "id": "yHsIE2eiyLke"
      }
    },
    {
      "cell_type": "code",
      "source": [
        "def load_embeddings(filename):\n",
        "    \"\"\"\n",
        "    Load a DataFrame from the generalized text format used by word2vec, GloVe,\n",
        "    fastText, and ConceptNet Numberbatch. The main point where they differ is\n",
        "    whether there is an initial line with the dimensions of the matrix.\n",
        "    \"\"\"\n",
        "    labels = []\n",
        "    rows = []\n",
        "    with open(filename, encoding='utf-8') as infile:\n",
        "        for i, line in enumerate(infile):\n",
        "            items = line.rstrip().split(' ')\n",
        "            if len(items) == 2:\n",
        "                # This is a header row giving the shape of the matrix\n",
        "                continue\n",
        "            labels.append(items[0])\n",
        "            values = np.array([float(x) for x in items[1:]], 'f')\n",
        "            rows.append(values)\n",
        "    \n",
        "    arr = np.vstack(rows)\n",
        "    return pd.DataFrame(arr, index=labels, dtype='f')\n",
        "\n",
        "embeddings = load_embeddings('/content/drive/MyDrive/Colab Notebooks/glove.42B.300d.txt')\n",
        "embeddings.shape"
      ],
      "metadata": {
        "colab": {
          "base_uri": "https://localhost:8080/"
        },
        "id": "7FKQS76Cx8kE",
        "outputId": "85559454-afff-40e1-8471-6abe5f35e94a"
      },
      "execution_count": 4,
      "outputs": [
        {
          "output_type": "execute_result",
          "data": {
            "text/plain": [
              "(1917495, 300)"
            ]
          },
          "metadata": {},
          "execution_count": 4
        }
      ]
    },
    {
      "cell_type": "markdown",
      "source": [
        "## Step 2: Import positive & negative sentiment words\n",
        "\n",
        "We'll need some sentiment data. The original paper took this from Bing Liu’s web site (https://www.cs.uic.edu/~liub/FBS/sentiment-analysis.html#lexicon), but I wasn't able to download it there. I found the same set here:\n",
        "\n",
        "- [Positive sentiment words](https://ptrckprry.com/course/ssd/data/positive-words.txt)\n",
        "- [Negative sentiment words](https://ptrckprry.com/course/ssd/data/negative-words.txt)\n",
        "\n",
        "We'll save these in an accessible place (make sure to update your file paths) and load these lexicons."
      ],
      "metadata": {
        "id": "b6X3pFe0bEtX"
      }
    },
    {
      "cell_type": "code",
      "source": [
        "def load_lexicon(filename):\n",
        "    \"\"\"\n",
        "    Load a file from Bing Liu's sentiment lexicon\n",
        "    (https://www.cs.uic.edu/~liub/FBS/sentiment-analysis.html), containing\n",
        "    English words in Latin-1 encoding.\n",
        "    \n",
        "    One file contains a list of positive words, and the other contains\n",
        "    a list of negative words. The files contain comment lines starting\n",
        "    with ';' and blank lines, which should be skipped.\n",
        "    \"\"\"\n",
        "    lexicon = []\n",
        "    with open(filename, encoding='latin-1') as infile:\n",
        "        for line in infile:\n",
        "            line = line.rstrip()\n",
        "            if line and not line.startswith(';'):\n",
        "                lexicon.append(line)\n",
        "    return lexicon\n",
        "\n",
        "pos_words = load_lexicon('/content/drive/MyDrive/Colab Notebooks/positive-words.txt')\n",
        "neg_words = load_lexicon('/content/drive/MyDrive/Colab Notebooks/negative-words.txt')\n"
      ],
      "metadata": {
        "id": "ZM0Tl0WSbh9-"
      },
      "execution_count": 5,
      "outputs": []
    },
    {
      "cell_type": "markdown",
      "source": [
        "## 3. Train a Model to recognize positive & negative sentiment \n",
        "\n",
        "So now that we have positive & negative words, we have to do a little clean up to get rid of the words that *are* in the lists, but aren't in the embeddings dictionary. This takes a bit of time to run."
      ],
      "metadata": {
        "id": "qF0OVt41fHmZ"
      }
    },
    {
      "cell_type": "code",
      "source": [
        "pos_vectors = embeddings.loc[[x for x in pos_words if x in list(embeddings.index)]].dropna()\n",
        "neg_vectors = embeddings.loc[[x for x in neg_words if x in list(embeddings.index)]].dropna()\n"
      ],
      "metadata": {
        "id": "KO5_ZIKQfSNi"
      },
      "execution_count": 6,
      "outputs": []
    },
    {
      "cell_type": "markdown",
      "source": [
        "And once we've gotten these cleaned lists, we can then make arrays of the  inputs and outputs. The inputs are the embeddings, and the outputs are coded as 1 for positive words and -1 for negative words."
      ],
      "metadata": {
        "id": "myQvBnm9fTmV"
      }
    },
    {
      "cell_type": "code",
      "source": [
        "vectors = pd.concat([pos_vectors, neg_vectors])\n",
        "targets = np.array([1 for entry in pos_vectors.index] + [-1 for entry in neg_vectors.index])\n",
        "labels = list(pos_vectors.index) + list(neg_vectors.index)"
      ],
      "metadata": {
        "id": "IxvzCdAOfTXQ"
      },
      "execution_count": 7,
      "outputs": []
    },
    {
      "cell_type": "markdown",
      "source": [
        "We need to separate our data into training data and test data, where 90 % of the data is training, and 10% is reserved for testing:"
      ],
      "metadata": {
        "id": "XCMOv_rfXmVL"
      }
    },
    {
      "cell_type": "code",
      "source": [
        "train_vectors, test_vectors, train_targets, test_targets, train_labels, test_labels = \\\n",
        "    train_test_split(vectors, targets, labels, test_size=0.1, random_state=0)\n",
        "\n",
        "model = SGDClassifier(loss='log', random_state=0)\n",
        "model.fit(train_vectors, train_targets)\n",
        "\n",
        "accuracy_score(model.predict(test_vectors), test_targets)"
      ],
      "metadata": {
        "colab": {
          "base_uri": "https://localhost:8080/"
        },
        "id": "RFHXZ2mUX8Ql",
        "outputId": "34a926c5-79a5-43a3-adee-1d233ae8e31c"
      },
      "execution_count": 8,
      "outputs": [
        {
          "output_type": "execute_result",
          "data": {
            "text/plain": [
              "0.9411764705882353"
            ]
          },
          "metadata": {},
          "execution_count": 8
        }
      ]
    },
    {
      "cell_type": "markdown",
      "source": [
        "Define a function that we can use to see the sentiment that this classifier predicts for particular words, then use it to see some examples of its predictions on the test data"
      ],
      "metadata": {
        "id": "AMdjM3RTYK5j"
      }
    },
    {
      "cell_type": "code",
      "source": [
        "\n",
        "def vecs_to_sentiment(vecs):\n",
        "    # predict_log_proba gives the log probability for each class\n",
        "    predictions = model.predict_log_proba(vecs)\n",
        "\n",
        "    # To see an overall positive vs. negative classification in one number,\n",
        "    # we take the log probability of positive sentiment minus the log\n",
        "    # probability of negative sentiment.\n",
        "    return predictions[:, 1] - predictions[:, 0]\n",
        "\n",
        "\n",
        "def words_to_sentiment(words):\n",
        "    filtered_words = [word for word in words if word in list(embeddings.index)]\n",
        "    vecs = embeddings.loc[filtered_words].dropna()\n",
        "    log_odds = vecs_to_sentiment(vecs)\n",
        "    return pd.DataFrame({'sentiment': log_odds}, index=vecs.index)\n",
        "\n",
        "\n",
        "# Show 20 examples from the test set\n",
        "words_to_sentiment(test_labels)"
      ],
      "metadata": {
        "colab": {
          "base_uri": "https://localhost:8080/",
          "height": 423
        },
        "id": "VSGPKmNUX9ai",
        "outputId": "261e46e7-0563-4012-f2de-7684767c39a8"
      },
      "execution_count": 9,
      "outputs": [
        {
          "output_type": "execute_result",
          "data": {
            "text/html": [
              "\n",
              "  <div id=\"df-2961b909-f5e6-462c-95f0-f9e8676a3775\">\n",
              "    <div class=\"colab-df-container\">\n",
              "      <div>\n",
              "<style scoped>\n",
              "    .dataframe tbody tr th:only-of-type {\n",
              "        vertical-align: middle;\n",
              "    }\n",
              "\n",
              "    .dataframe tbody tr th {\n",
              "        vertical-align: top;\n",
              "    }\n",
              "\n",
              "    .dataframe thead th {\n",
              "        text-align: right;\n",
              "    }\n",
              "</style>\n",
              "<table border=\"1\" class=\"dataframe\">\n",
              "  <thead>\n",
              "    <tr style=\"text-align: right;\">\n",
              "      <th></th>\n",
              "      <th>sentiment</th>\n",
              "    </tr>\n",
              "  </thead>\n",
              "  <tbody>\n",
              "    <tr>\n",
              "      <th>fictional</th>\n",
              "      <td>-1.440770</td>\n",
              "    </tr>\n",
              "    <tr>\n",
              "      <th>intermittent</th>\n",
              "      <td>-11.439193</td>\n",
              "    </tr>\n",
              "    <tr>\n",
              "      <th>inviolate</th>\n",
              "      <td>0.403017</td>\n",
              "    </tr>\n",
              "    <tr>\n",
              "      <th>blockage</th>\n",
              "      <td>-7.607734</td>\n",
              "    </tr>\n",
              "    <tr>\n",
              "      <th>taxing</th>\n",
              "      <td>-0.375859</td>\n",
              "    </tr>\n",
              "    <tr>\n",
              "      <th>...</th>\n",
              "      <td>...</td>\n",
              "    </tr>\n",
              "    <tr>\n",
              "      <th>enslave</th>\n",
              "      <td>-2.956712</td>\n",
              "    </tr>\n",
              "    <tr>\n",
              "      <th>shemale</th>\n",
              "      <td>-1.230915</td>\n",
              "    </tr>\n",
              "    <tr>\n",
              "      <th>sillily</th>\n",
              "      <td>-2.910008</td>\n",
              "    </tr>\n",
              "    <tr>\n",
              "      <th>intimidate</th>\n",
              "      <td>-8.700249</td>\n",
              "    </tr>\n",
              "    <tr>\n",
              "      <th>pride</th>\n",
              "      <td>2.687951</td>\n",
              "    </tr>\n",
              "  </tbody>\n",
              "</table>\n",
              "<p>663 rows × 1 columns</p>\n",
              "</div>\n",
              "      <button class=\"colab-df-convert\" onclick=\"convertToInteractive('df-2961b909-f5e6-462c-95f0-f9e8676a3775')\"\n",
              "              title=\"Convert this dataframe to an interactive table.\"\n",
              "              style=\"display:none;\">\n",
              "        \n",
              "  <svg xmlns=\"http://www.w3.org/2000/svg\" height=\"24px\"viewBox=\"0 0 24 24\"\n",
              "       width=\"24px\">\n",
              "    <path d=\"M0 0h24v24H0V0z\" fill=\"none\"/>\n",
              "    <path d=\"M18.56 5.44l.94 2.06.94-2.06 2.06-.94-2.06-.94-.94-2.06-.94 2.06-2.06.94zm-11 1L8.5 8.5l.94-2.06 2.06-.94-2.06-.94L8.5 2.5l-.94 2.06-2.06.94zm10 10l.94 2.06.94-2.06 2.06-.94-2.06-.94-.94-2.06-.94 2.06-2.06.94z\"/><path d=\"M17.41 7.96l-1.37-1.37c-.4-.4-.92-.59-1.43-.59-.52 0-1.04.2-1.43.59L10.3 9.45l-7.72 7.72c-.78.78-.78 2.05 0 2.83L4 21.41c.39.39.9.59 1.41.59.51 0 1.02-.2 1.41-.59l7.78-7.78 2.81-2.81c.8-.78.8-2.07 0-2.86zM5.41 20L4 18.59l7.72-7.72 1.47 1.35L5.41 20z\"/>\n",
              "  </svg>\n",
              "      </button>\n",
              "      \n",
              "  <style>\n",
              "    .colab-df-container {\n",
              "      display:flex;\n",
              "      flex-wrap:wrap;\n",
              "      gap: 12px;\n",
              "    }\n",
              "\n",
              "    .colab-df-convert {\n",
              "      background-color: #E8F0FE;\n",
              "      border: none;\n",
              "      border-radius: 50%;\n",
              "      cursor: pointer;\n",
              "      display: none;\n",
              "      fill: #1967D2;\n",
              "      height: 32px;\n",
              "      padding: 0 0 0 0;\n",
              "      width: 32px;\n",
              "    }\n",
              "\n",
              "    .colab-df-convert:hover {\n",
              "      background-color: #E2EBFA;\n",
              "      box-shadow: 0px 1px 2px rgba(60, 64, 67, 0.3), 0px 1px 3px 1px rgba(60, 64, 67, 0.15);\n",
              "      fill: #174EA6;\n",
              "    }\n",
              "\n",
              "    [theme=dark] .colab-df-convert {\n",
              "      background-color: #3B4455;\n",
              "      fill: #D2E3FC;\n",
              "    }\n",
              "\n",
              "    [theme=dark] .colab-df-convert:hover {\n",
              "      background-color: #434B5C;\n",
              "      box-shadow: 0px 1px 3px 1px rgba(0, 0, 0, 0.15);\n",
              "      filter: drop-shadow(0px 1px 2px rgba(0, 0, 0, 0.3));\n",
              "      fill: #FFFFFF;\n",
              "    }\n",
              "  </style>\n",
              "\n",
              "      <script>\n",
              "        const buttonEl =\n",
              "          document.querySelector('#df-2961b909-f5e6-462c-95f0-f9e8676a3775 button.colab-df-convert');\n",
              "        buttonEl.style.display =\n",
              "          google.colab.kernel.accessAllowed ? 'block' : 'none';\n",
              "\n",
              "        async function convertToInteractive(key) {\n",
              "          const element = document.querySelector('#df-2961b909-f5e6-462c-95f0-f9e8676a3775');\n",
              "          const dataTable =\n",
              "            await google.colab.kernel.invokeFunction('convertToInteractive',\n",
              "                                                     [key], {});\n",
              "          if (!dataTable) return;\n",
              "\n",
              "          const docLinkHtml = 'Like what you see? Visit the ' +\n",
              "            '<a target=\"_blank\" href=https://colab.research.google.com/notebooks/data_table.ipynb>data table notebook</a>'\n",
              "            + ' to learn more about interactive tables.';\n",
              "          element.innerHTML = '';\n",
              "          dataTable['output_type'] = 'display_data';\n",
              "          await google.colab.output.renderOutput(dataTable, element);\n",
              "          const docLink = document.createElement('div');\n",
              "          docLink.innerHTML = docLinkHtml;\n",
              "          element.appendChild(docLink);\n",
              "        }\n",
              "      </script>\n",
              "    </div>\n",
              "  </div>\n",
              "  "
            ],
            "text/plain": [
              "              sentiment\n",
              "fictional     -1.440770\n",
              "intermittent -11.439193\n",
              "inviolate      0.403017\n",
              "blockage      -7.607734\n",
              "taxing        -0.375859\n",
              "...                 ...\n",
              "enslave       -2.956712\n",
              "shemale       -1.230915\n",
              "sillily       -2.910008\n",
              "intimidate    -8.700249\n",
              "pride          2.687951\n",
              "\n",
              "[663 rows x 1 columns]"
            ]
          },
          "metadata": {},
          "execution_count": 9
        }
      ]
    },
    {
      "cell_type": "markdown",
      "source": [
        "# Step 4: Get a sentiment score for text\n",
        "\n"
      ],
      "metadata": {
        "id": "nOGOC-IfYeSK"
      }
    },
    {
      "cell_type": "markdown",
      "source": [
        "Let's write a little function that will calculate the sentiment of a string of text."
      ],
      "metadata": {
        "id": "p4W2BjP7nUOR"
      }
    },
    {
      "cell_type": "code",
      "source": [
        "import re\n",
        "TOKEN_RE = re.compile(r\"\\w.*?\\b\")\n",
        "# The regex above finds tokens that start with a word-like character (\\w), and continues\n",
        "# matching characters (.+?) until the next word break (\\b). It's a relatively simple\n",
        "# expression that manages to extract something very much like words from text.\n",
        "\n",
        "\n",
        "def text_to_sentiment(text):\n",
        "    tokens = [token.casefold() for token in TOKEN_RE.findall(text)]\n",
        "    sentiments = words_to_sentiment(tokens)\n",
        "    return sentiments['sentiment'].mean()"
      ],
      "metadata": {
        "id": "77FQE-xiYdPg"
      },
      "execution_count": 10,
      "outputs": []
    },
    {
      "cell_type": "markdown",
      "source": [
        "## 5. Behold the monstrosity we have created"
      ],
      "metadata": {
        "id": "pb8wgeaIEfS1"
      }
    },
    {
      "cell_type": "code",
      "source": [
        "text_to_sentiment(\"Any text can go here, and we can get a sentiment score\")"
      ],
      "metadata": {
        "id": "aapEUBdrEev9"
      },
      "execution_count": null,
      "outputs": []
    },
    {
      "cell_type": "markdown",
      "source": [
        "Let's see how it does with sentences whose polarity is reversed:"
      ],
      "metadata": {
        "id": "lEHNzxNjE_FA"
      }
    },
    {
      "cell_type": "code",
      "source": [
        "text_to_sentiment(\"I love cats\")"
      ],
      "metadata": {
        "id": "yminzUgBFHgO"
      },
      "execution_count": null,
      "outputs": []
    },
    {
      "cell_type": "code",
      "source": [
        "text_to_sentiment(\"I don't love cats\")"
      ],
      "metadata": {
        "id": "9ujeSfWuFLoJ"
      },
      "execution_count": null,
      "outputs": []
    },
    {
      "cell_type": "code",
      "source": [
        "text_to_sentiment(\"Let's go on a ghost tour\")"
      ],
      "metadata": {
        "id": "yXzZpb7ogtuF"
      },
      "execution_count": null,
      "outputs": []
    },
    {
      "cell_type": "code",
      "source": [
        "text_to_sentiment(\"Let's not go on a ghost tour\")"
      ],
      "metadata": {
        "id": "n6QKOuwnFp7g"
      },
      "execution_count": null,
      "outputs": []
    },
    {
      "cell_type": "markdown",
      "source": [
        "Let's look at this one -- do we expect this given how \"sentiment\" is defined? \n",
        "\n",
        "(think: just the mean of the sentiment scores of each word)"
      ],
      "metadata": {
        "id": "ze3TatS-Uyg2"
      }
    },
    {
      "cell_type": "code",
      "source": [
        "text_to_sentiment(\"I'm going to die\")"
      ],
      "metadata": {
        "id": "w87mitLNUpo-"
      },
      "execution_count": null,
      "outputs": []
    },
    {
      "cell_type": "code",
      "source": [
        "text_to_sentiment(\"I'm not going to die\")"
      ],
      "metadata": {
        "id": "uYrxiMt0UtME"
      },
      "execution_count": null,
      "outputs": []
    },
    {
      "cell_type": "markdown",
      "source": [
        "We'll see if we can get the same results with names that Speer (2017) did:"
      ],
      "metadata": {
        "id": "yu7tOY3maVYw"
      }
    },
    {
      "cell_type": "code",
      "source": [
        "text_to_sentiment(\"My name is Emily\")"
      ],
      "metadata": {
        "id": "9T3EZdf-VDG_"
      },
      "execution_count": null,
      "outputs": []
    },
    {
      "cell_type": "code",
      "source": [
        "text_to_sentiment(\"My name is Heather\")"
      ],
      "metadata": {
        "id": "TmrMhXa8atXx"
      },
      "execution_count": null,
      "outputs": []
    },
    {
      "cell_type": "code",
      "source": [
        "text_to_sentiment(\"My name is Yvette\")"
      ],
      "metadata": {
        "id": "GwmhzH__azfG"
      },
      "execution_count": null,
      "outputs": []
    },
    {
      "cell_type": "code",
      "source": [
        "text_to_sentiment(\"My name is Shaniqua\")"
      ],
      "metadata": {
        "id": "_L2JWuaTbwDn"
      },
      "execution_count": null,
      "outputs": []
    },
    {
      "cell_type": "markdown",
      "source": [
        "# 😬  yikes, we do get the same results.\n",
        "\n",
        "# How can we fix this?"
      ],
      "metadata": {
        "id": "fuIe5pBNb11r"
      }
    },
    {
      "cell_type": "code",
      "source": [
        "NAMES_BY_ETHNICITY = {\n",
        "    # The first two lists are from the Caliskan et al. appendix describing the\n",
        "    # Word Embedding Association Test.\n",
        "    'White': [\n",
        "        'Adam', 'Chip', 'Harry', 'Josh', 'Roger', 'Alan', 'Frank', 'Ian', 'Justin',\n",
        "        'Ryan', 'Andrew', 'Fred', 'Jack', 'Matthew', 'Stephen', 'Brad', 'Greg', 'Jed',\n",
        "        'Paul', 'Todd', 'Brandon', 'Hank', 'Jonathan', 'Peter', 'Wilbur', 'Amanda',\n",
        "        'Courtney', 'Heather', 'Melanie', 'Sara', 'Amber', 'Crystal', 'Katie',\n",
        "        'Meredith', 'Shannon', 'Betsy', 'Donna', 'Kristin', 'Nancy', 'Stephanie',\n",
        "        'Bobbie-Sue', 'Ellen', 'Lauren', 'Peggy', 'Sue-Ellen', 'Colleen', 'Emily',\n",
        "        'Megan', 'Rachel', 'Wendy'\n",
        "    ],\n",
        "\n",
        "    'Black': [\n",
        "        'Alonzo', 'Jamel', 'Lerone', 'Percell', 'Theo', 'Alphonse', 'Jerome',\n",
        "        'Leroy', 'Rasaan', 'Torrance', 'Darnell', 'Lamar', 'Lionel', 'Rashaun',\n",
        "        'Tyree', 'Deion', 'Lamont', 'Malik', 'Terrence', 'Tyrone', 'Everol',\n",
        "        'Lavon', 'Marcellus', 'Terryl', 'Wardell', 'Aiesha', 'Lashelle', 'Nichelle',\n",
        "        'Shereen', 'Temeka', 'Ebony', 'Latisha', 'Shaniqua', 'Tameisha', 'Teretha',\n",
        "        'Jasmine', 'Latonya', 'Shanise', 'Tanisha', 'Tia', 'Lakisha', 'Latoya',\n",
        "        'Sharise', 'Tashika', 'Yolanda', 'Lashandra', 'Malika', 'Shavonn',\n",
        "        'Tawanda', 'Yvette'\n",
        "    ],\n",
        "    \n",
        "    # This list comes from statistics about common Hispanic-origin names in the US.\n",
        "    'Hispanic': [\n",
        "        'Juan', 'José', 'Miguel', 'Luís', 'Jorge', 'Santiago', 'Matías', 'Sebastián',\n",
        "        'Mateo', 'Nicolás', 'Alejandro', 'Samuel', 'Diego', 'Daniel', 'Tomás',\n",
        "        'Juana', 'Ana', 'Luisa', 'María', 'Elena', 'Sofía', 'Isabella', 'Valentina',\n",
        "        'Camila', 'Valeria', 'Ximena', 'Luciana', 'Mariana', 'Victoria', 'Martina'\n",
        "    ],\n",
        "    \n",
        "    # The following list conflates religion and ethnicity, I'm aware. So do given names.\n",
        "    #\n",
        "    # This list was cobbled together from searching baby-name sites for common Muslim names,\n",
        "    # as spelled in English. I did not ultimately distinguish whether the origin of the name\n",
        "    # is Arabic or Urdu or another language.\n",
        "    #\n",
        "    # I'd be happy to replace it with something more authoritative, given a source.\n",
        "    'Arab/Muslim': [\n",
        "        'Mohammed', 'Omar', 'Ahmed', 'Ali', 'Youssef', 'Abdullah', 'Yasin', 'Hamza',\n",
        "        'Ayaan', 'Syed', 'Samar', 'Ahmad', 'Zikri', 'Rasaan', 'Rayyan', 'Mariam',\n",
        "        'Jana', 'Malak', 'Salma', 'Nour', 'Lian', 'Fatima', 'Ayesha', 'Zahra', 'Sana',\n",
        "        'Zara', 'Alya', 'Shaista', 'Zoya', 'Yasmin'\n",
        "    ]\n",
        "    \n",
        "}"
      ],
      "metadata": {
        "id": "u-GwVd0YcGLV"
      },
      "execution_count": 11,
      "outputs": []
    },
    {
      "cell_type": "code",
      "source": [
        "def name_sentiment_table():\n",
        "    frames = []\n",
        "    for group, name_list in sorted(NAMES_BY_ETHNICITY.items()):\n",
        "        lower_names = [name.lower() for name in name_list]\n",
        "        sentiments = words_to_sentiment(lower_names)\n",
        "        sentiments['group'] = group\n",
        "        frames.append(sentiments)\n",
        "\n",
        "    # Put together the data we got from each ethnic group into one big table\n",
        "    return pd.concat(frames)\n",
        "\n",
        "name_sentiments = name_sentiment_table()"
      ],
      "metadata": {
        "id": "Xz2_o2G5dcLY"
      },
      "execution_count": 12,
      "outputs": []
    },
    {
      "cell_type": "code",
      "source": [
        "name_sentiments"
      ],
      "metadata": {
        "colab": {
          "base_uri": "https://localhost:8080/",
          "height": 423
        },
        "id": "viUZ4iN1h0Fv",
        "outputId": "f614738c-5484-4751-e99b-207f47f0404b"
      },
      "execution_count": 74,
      "outputs": [
        {
          "output_type": "execute_result",
          "data": {
            "text/html": [
              "\n",
              "  <div id=\"df-1029ee73-4d49-4b38-9cf8-0dcfb138d895\">\n",
              "    <div class=\"colab-df-container\">\n",
              "      <div>\n",
              "<style scoped>\n",
              "    .dataframe tbody tr th:only-of-type {\n",
              "        vertical-align: middle;\n",
              "    }\n",
              "\n",
              "    .dataframe tbody tr th {\n",
              "        vertical-align: top;\n",
              "    }\n",
              "\n",
              "    .dataframe thead th {\n",
              "        text-align: right;\n",
              "    }\n",
              "</style>\n",
              "<table border=\"1\" class=\"dataframe\">\n",
              "  <thead>\n",
              "    <tr style=\"text-align: right;\">\n",
              "      <th></th>\n",
              "      <th>sentiment</th>\n",
              "      <th>group</th>\n",
              "    </tr>\n",
              "  </thead>\n",
              "  <tbody>\n",
              "    <tr>\n",
              "      <th>mohammed</th>\n",
              "      <td>-1.434436</td>\n",
              "      <td>Arab/Muslim</td>\n",
              "    </tr>\n",
              "    <tr>\n",
              "      <th>omar</th>\n",
              "      <td>-4.479778</td>\n",
              "      <td>Arab/Muslim</td>\n",
              "    </tr>\n",
              "    <tr>\n",
              "      <th>ahmed</th>\n",
              "      <td>2.113367</td>\n",
              "      <td>Arab/Muslim</td>\n",
              "    </tr>\n",
              "    <tr>\n",
              "      <th>ali</th>\n",
              "      <td>1.478598</td>\n",
              "      <td>Arab/Muslim</td>\n",
              "    </tr>\n",
              "    <tr>\n",
              "      <th>youssef</th>\n",
              "      <td>1.091548</td>\n",
              "      <td>Arab/Muslim</td>\n",
              "    </tr>\n",
              "    <tr>\n",
              "      <th>...</th>\n",
              "      <td>...</td>\n",
              "      <td>...</td>\n",
              "    </tr>\n",
              "    <tr>\n",
              "      <th>colleen</th>\n",
              "      <td>0.810645</td>\n",
              "      <td>White</td>\n",
              "    </tr>\n",
              "    <tr>\n",
              "      <th>emily</th>\n",
              "      <td>5.683485</td>\n",
              "      <td>White</td>\n",
              "    </tr>\n",
              "    <tr>\n",
              "      <th>megan</th>\n",
              "      <td>2.647111</td>\n",
              "      <td>White</td>\n",
              "    </tr>\n",
              "    <tr>\n",
              "      <th>rachel</th>\n",
              "      <td>1.529539</td>\n",
              "      <td>White</td>\n",
              "    </tr>\n",
              "    <tr>\n",
              "      <th>wendy</th>\n",
              "      <td>-0.204117</td>\n",
              "      <td>White</td>\n",
              "    </tr>\n",
              "  </tbody>\n",
              "</table>\n",
              "<p>153 rows × 2 columns</p>\n",
              "</div>\n",
              "      <button class=\"colab-df-convert\" onclick=\"convertToInteractive('df-1029ee73-4d49-4b38-9cf8-0dcfb138d895')\"\n",
              "              title=\"Convert this dataframe to an interactive table.\"\n",
              "              style=\"display:none;\">\n",
              "        \n",
              "  <svg xmlns=\"http://www.w3.org/2000/svg\" height=\"24px\"viewBox=\"0 0 24 24\"\n",
              "       width=\"24px\">\n",
              "    <path d=\"M0 0h24v24H0V0z\" fill=\"none\"/>\n",
              "    <path d=\"M18.56 5.44l.94 2.06.94-2.06 2.06-.94-2.06-.94-.94-2.06-.94 2.06-2.06.94zm-11 1L8.5 8.5l.94-2.06 2.06-.94-2.06-.94L8.5 2.5l-.94 2.06-2.06.94zm10 10l.94 2.06.94-2.06 2.06-.94-2.06-.94-.94-2.06-.94 2.06-2.06.94z\"/><path d=\"M17.41 7.96l-1.37-1.37c-.4-.4-.92-.59-1.43-.59-.52 0-1.04.2-1.43.59L10.3 9.45l-7.72 7.72c-.78.78-.78 2.05 0 2.83L4 21.41c.39.39.9.59 1.41.59.51 0 1.02-.2 1.41-.59l7.78-7.78 2.81-2.81c.8-.78.8-2.07 0-2.86zM5.41 20L4 18.59l7.72-7.72 1.47 1.35L5.41 20z\"/>\n",
              "  </svg>\n",
              "      </button>\n",
              "      \n",
              "  <style>\n",
              "    .colab-df-container {\n",
              "      display:flex;\n",
              "      flex-wrap:wrap;\n",
              "      gap: 12px;\n",
              "    }\n",
              "\n",
              "    .colab-df-convert {\n",
              "      background-color: #E8F0FE;\n",
              "      border: none;\n",
              "      border-radius: 50%;\n",
              "      cursor: pointer;\n",
              "      display: none;\n",
              "      fill: #1967D2;\n",
              "      height: 32px;\n",
              "      padding: 0 0 0 0;\n",
              "      width: 32px;\n",
              "    }\n",
              "\n",
              "    .colab-df-convert:hover {\n",
              "      background-color: #E2EBFA;\n",
              "      box-shadow: 0px 1px 2px rgba(60, 64, 67, 0.3), 0px 1px 3px 1px rgba(60, 64, 67, 0.15);\n",
              "      fill: #174EA6;\n",
              "    }\n",
              "\n",
              "    [theme=dark] .colab-df-convert {\n",
              "      background-color: #3B4455;\n",
              "      fill: #D2E3FC;\n",
              "    }\n",
              "\n",
              "    [theme=dark] .colab-df-convert:hover {\n",
              "      background-color: #434B5C;\n",
              "      box-shadow: 0px 1px 3px 1px rgba(0, 0, 0, 0.15);\n",
              "      filter: drop-shadow(0px 1px 2px rgba(0, 0, 0, 0.3));\n",
              "      fill: #FFFFFF;\n",
              "    }\n",
              "  </style>\n",
              "\n",
              "      <script>\n",
              "        const buttonEl =\n",
              "          document.querySelector('#df-1029ee73-4d49-4b38-9cf8-0dcfb138d895 button.colab-df-convert');\n",
              "        buttonEl.style.display =\n",
              "          google.colab.kernel.accessAllowed ? 'block' : 'none';\n",
              "\n",
              "        async function convertToInteractive(key) {\n",
              "          const element = document.querySelector('#df-1029ee73-4d49-4b38-9cf8-0dcfb138d895');\n",
              "          const dataTable =\n",
              "            await google.colab.kernel.invokeFunction('convertToInteractive',\n",
              "                                                     [key], {});\n",
              "          if (!dataTable) return;\n",
              "\n",
              "          const docLinkHtml = 'Like what you see? Visit the ' +\n",
              "            '<a target=\"_blank\" href=https://colab.research.google.com/notebooks/data_table.ipynb>data table notebook</a>'\n",
              "            + ' to learn more about interactive tables.';\n",
              "          element.innerHTML = '';\n",
              "          dataTable['output_type'] = 'display_data';\n",
              "          await google.colab.output.renderOutput(dataTable, element);\n",
              "          const docLink = document.createElement('div');\n",
              "          docLink.innerHTML = docLinkHtml;\n",
              "          element.appendChild(docLink);\n",
              "        }\n",
              "      </script>\n",
              "    </div>\n",
              "  </div>\n",
              "  "
            ],
            "text/plain": [
              "          sentiment        group\n",
              "mohammed  -1.434436  Arab/Muslim\n",
              "omar      -4.479778  Arab/Muslim\n",
              "ahmed      2.113367  Arab/Muslim\n",
              "ali        1.478598  Arab/Muslim\n",
              "youssef    1.091548  Arab/Muslim\n",
              "...             ...          ...\n",
              "colleen    0.810645        White\n",
              "emily      5.683485        White\n",
              "megan      2.647111        White\n",
              "rachel     1.529539        White\n",
              "wendy     -0.204117        White\n",
              "\n",
              "[153 rows x 2 columns]"
            ]
          },
          "metadata": {},
          "execution_count": 74
        }
      ]
    },
    {
      "cell_type": "code",
      "source": [
        "plot = seaborn.swarmplot(x='group', y='sentiment', data=name_sentiments)\n",
        "plot.set_ylim([-10, 10])"
      ],
      "metadata": {
        "colab": {
          "base_uri": "https://localhost:8080/",
          "height": 322
        },
        "id": "SfxI1pNYiEDH",
        "outputId": "22f8a543-dffd-4eee-ed96-2c8a07a2cf0f"
      },
      "execution_count": 13,
      "outputs": [
        {
          "output_type": "execute_result",
          "data": {
            "text/plain": [
              "(-10.0, 10.0)"
            ]
          },
          "metadata": {},
          "execution_count": 13
        },
        {
          "output_type": "display_data",
          "data": {
            "image/png": "[encoded data removed]",
            "text/plain": [
              "<Figure size 432x288 with 1 Axes>"
            ]
          },
          "metadata": {
            "needs_background": "light"
          }
        }
      ]
    },
    {
      "cell_type": "code",
      "source": [
        "plot = seaborn.barplot(x='group', y='sentiment', data=name_sentiments, capsize=.1)"
      ],
      "metadata": {
        "colab": {
          "base_uri": "https://localhost:8080/",
          "height": 298
        },
        "id": "kPZ5ow9XiLqY",
        "outputId": "8b8e1bb0-14e7-44b7-d24e-d3be9ae9f91d"
      },
      "execution_count": 14,
      "outputs": [
        {
          "output_type": "display_data",
          "data": {
            "image/png": "[encoded data removed]",
            "text/plain": [
              "<Figure size 432x288 with 1 Axes>"
            ]
          },
          "metadata": {
            "needs_background": "light"
          }
        }
      ]
    },
    {
      "cell_type": "code",
      "source": [
        "ols_model = statsmodels.formula.api.ols('sentiment ~ group', data=name_sentiments).fit()\n",
        "ols_model.summary().tables[0]"
      ],
      "metadata": {
        "colab": {
          "base_uri": "https://localhost:8080/",
          "height": 227
        },
        "id": "LawnlLFdiSZC",
        "outputId": "1eee93e8-40b4-4045-beb6-c4bc89c9aab4"
      },
      "execution_count": 15,
      "outputs": [
        {
          "output_type": "execute_result",
          "data": {
            "text/html": [
              "<table class=\"simpletable\">\n",
              "<caption>OLS Regression Results</caption>\n",
              "<tr>\n",
              "  <th>Dep. Variable:</th>        <td>sentiment</td>    <th>  R-squared:         </th> <td>   0.172</td>\n",
              "</tr>\n",
              "<tr>\n",
              "  <th>Model:</th>                   <td>OLS</td>       <th>  Adj. R-squared:    </th> <td>   0.155</td>\n",
              "</tr>\n",
              "<tr>\n",
              "  <th>Method:</th>             <td>Least Squares</td>  <th>  F-statistic:       </th> <td>   10.32</td>\n",
              "</tr>\n",
              "<tr>\n",
              "  <th>Date:</th>             <td>Mon, 07 Mar 2022</td> <th>  Prob (F-statistic):</th> <td>3.25e-06</td>\n",
              "</tr>\n",
              "<tr>\n",
              "  <th>Time:</th>                 <td>18:06:43</td>     <th>  Log-Likelihood:    </th> <td> -370.41</td>\n",
              "</tr>\n",
              "<tr>\n",
              "  <th>No. Observations:</th>      <td>   153</td>      <th>  AIC:               </th> <td>   748.8</td>\n",
              "</tr>\n",
              "<tr>\n",
              "  <th>Df Residuals:</th>          <td>   149</td>      <th>  BIC:               </th> <td>   760.9</td>\n",
              "</tr>\n",
              "<tr>\n",
              "  <th>Df Model:</th>              <td>     3</td>      <th>                     </th>     <td> </td>   \n",
              "</tr>\n",
              "<tr>\n",
              "  <th>Covariance Type:</th>      <td>nonrobust</td>    <th>                     </th>     <td> </td>   \n",
              "</tr>\n",
              "</table>"
            ],
            "text/plain": [
              "<class 'statsmodels.iolib.table.SimpleTable'>"
            ]
          },
          "metadata": {},
          "execution_count": 15
        }
      ]
    },
    {
      "cell_type": "code",
      "source": [
        "ols_model.fvalue\n"
      ],
      "metadata": {
        "colab": {
          "base_uri": "https://localhost:8080/"
        },
        "id": "cbsPsXGIiZBg",
        "outputId": "8690a960-c4e7-482c-9815-e3582d3da747"
      },
      "execution_count": 16,
      "outputs": [
        {
          "output_type": "execute_result",
          "data": {
            "text/plain": [
              "10.324123824642829"
            ]
          },
          "metadata": {},
          "execution_count": 16
        }
      ]
    },
    {
      "cell_type": "code",
      "source": [
        "def retrain_model(new_embs):\n",
        "    \"\"\"\n",
        "    Repeat the steps above with a new set of word embeddings.\n",
        "    \"\"\"\n",
        "    global model, embeddings, name_sentiments\n",
        "    embeddings = new_embs\n",
        "    pos_vectors = embeddings.loc[[x for x in pos_words if x in list(embeddings.index)]].dropna()\n",
        "    neg_vectors = embeddings.loc[[x for x in neg_words if x in list(embeddings.index)]].dropna()\n",
        "    vectors = pd.concat([pos_vectors, neg_vectors])\n",
        "    targets = np.array([1 for entry in pos_vectors.index] + [-1 for entry in neg_vectors.index])\n",
        "    labels = list(pos_vectors.index) + list(neg_vectors.index)\n",
        "\n",
        "    train_vectors, test_vectors, train_targets, test_targets, train_labels, test_labels = \\\n",
        "        train_test_split(vectors, targets, labels, test_size=0.1, random_state=0)\n",
        "        \n",
        "    model = SGDClassifier(loss='log', random_state=0)\n",
        "    model.fit(train_vectors, train_targets)\n",
        "    \n",
        "    accuracy = accuracy_score(model.predict(test_vectors), test_targets)\n",
        "    print(\"Accuracy of sentiment: {:.2%}\".format(accuracy))\n",
        "    \n",
        "    name_sentiments = name_sentiment_table()\n",
        "    ols_model = statsmodels.formula.api.ols('sentiment ~ group', data=name_sentiments).fit()\n",
        "    print(\"F-value of bias: {:.3f}\".format(ols_model.fvalue))\n",
        "    print(\"Probability given null hypothesis: {:.3}\".format(ols_model.f_pvalue))\n",
        "    \n",
        "    # Show the results on a swarm plot, with a consistent Y-axis\n",
        "    plot = seaborn.swarmplot(x='group', y='sentiment', data=name_sentiments)\n",
        "    plot.set_ylim([-10, 10])"
      ],
      "metadata": {
        "id": "EU6PtyJXijff"
      },
      "execution_count": 17,
      "outputs": []
    },
    {
      "cell_type": "code",
      "source": [
        "retrain_model(embeddings)"
      ],
      "metadata": {
        "colab": {
          "base_uri": "https://localhost:8080/",
          "height": 358
        },
        "id": "wr-H0LE2i6lI",
        "outputId": "54e6723b-5915-4a84-f0a6-1109a19a0e7a"
      },
      "execution_count": 18,
      "outputs": [
        {
          "output_type": "stream",
          "name": "stdout",
          "text": [
            "Accuracy of sentiment: 94.12%\n",
            "F-value of bias: 10.324\n",
            "Probability given null hypothesis: 3.25e-06\n"
          ]
        },
        {
          "output_type": "display_data",
          "data": {
            "image/png": "[encoded data removed]",
            "text/plain": [
              "<Figure size 432x288 with 1 Axes>"
            ]
          },
          "metadata": {
            "needs_background": "light"
          }
        }
      ]
    }
  ]
}